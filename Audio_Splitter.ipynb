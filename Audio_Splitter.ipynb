{
  "cells": [
    {
      "cell_type": "markdown",
      "metadata": {
        "id": "view-in-github",
        "colab_type": "text"
      },
      "source": [
        "<a href=\"https://colab.research.google.com/github/filispeen/audiosplitter_whisper_headless/blob/colab/Audio_Splitter.ipynb\" target=\"_parent\"><img src=\"https://colab.research.google.com/assets/colab-badge.svg\" alt=\"Open In Colab\"/></a>"
      ]
    },
    {
      "cell_type": "code",
      "execution_count": 1,
      "metadata": {
        "id": "r_YWOvF2e5zm",
        "cellView": "form"
      },
      "outputs": [],
      "source": [
        "# @title Setup dependencies\n",
        "from IPython.display import clear_output\n",
        "from google.colab import drive\n",
        "import torch\n",
        "import os\n",
        "\n",
        "%cd /content/\n",
        "\n",
        "debug = False # @param {type:\"boolean\"}\n",
        "\n",
        "driveQ = input(\"Use google drive to import files Y/n?: \").lower()\n",
        "if driveQ == \"y\":\n",
        "    drive.mount('/content/drive')\n",
        "\n",
        "with open(\"WHISPERX_VER\", \"w\") as f:\n",
        "  f.write(\"Don't delete me.\")\n",
        "\n",
        "python=\"/content/venv/bin/python\"\n",
        "pip=\"/content/venv/bin/pip\"\n",
        "whisperx=\"/content/venv/bin/whisperx\"\n",
        "os.environ[\"WHISPERX\"] = f\"{whisperx}\"\n",
        "\n",
        "#Depends installation\n",
        "if debug:\n",
        "  !pip install gdown virtualenv\n",
        "else:\n",
        "  !pip install -q gdown virtualenv\n",
        "\n",
        "!python3.10 -m virtualenv venv\n",
        "\n",
        "if debug:\n",
        "  !$python -m pip install tqdm>=4.30 librosa>=0.6.3 opencv_python>=4.2.0\n",
        "else:\n",
        "  !$python -m pip install -q tqdm>=4.30 librosa>=0.6.3 opencv_python>=4.2.0\n",
        "\n",
        "!rm -rf audiosplitter_whisper\n",
        "!git clone https://github.com/filispeen/audiosplitter_whisper_headless ./audiosplitter_whisper\n",
        "%cd audiosplitter_whisper\n",
        "\n",
        "if torch.cuda.is_available():\n",
        "    print('CUDA is available. Installing depends for GPU.')\n",
        "    if debug:\n",
        "      !$pip install -U -r requirements-cuda.txt\n",
        "    else:\n",
        "      !$pip install -q -U -r requirements-cuda.txt\n",
        "else:\n",
        "    print('CUDA is not available. Installing depends for CPU.')\n",
        "    if debug:\n",
        "      !$pip install -U -r requirements-cpu.txt\n",
        "    else:\n",
        "      !$pip install -q -U -r requirements-cpu.txt\n",
        "\n",
        "if not debug:\n",
        "  clear_output()"
      ]
    },
    {
      "cell_type": "code",
      "execution_count": null,
      "metadata": {
        "id": "n1hdhM2ko0nz",
        "cellView": "form"
      },
      "outputs": [],
      "source": [
        "#@title Start audio_splitter\n",
        "conf = \"\"\"language : \"en\"\n",
        "# Choices: [\"tiny\",\"base\",\"small\",\"medium\",\"large-v2\"]\n",
        "model : \"large-v2\"\n",
        "diarize : True\n",
        "HF_token : hf_nVuxDcDFGYn#######################\"\"\"\n",
        "#/content/drive/MyDrive/wishp/\n",
        "\n",
        "#with open('conf.yaml', 'w') as f:\n",
        "    #f.write(conf)\n",
        "%cd /content\n",
        "#!source venv/bin/activate\n",
        "%cd audiosplitter_whisper\n",
        "!$python split_audio_headless.py"
      ]
    }
  ],
  "metadata": {
    "accelerator": "GPU",
    "colab": {
      "provenance": [],
      "mount_file_id": "1blsKpPVBKX9zbL4yikkr9Rw1SpDs0gyg",
      "authorship_tag": "ABX9TyM2Zuxcy8P7A94LBzAdYaiw",
      "include_colab_link": true
    },
    "kernelspec": {
      "display_name": "Python 3",
      "name": "python3"
    },
    "language_info": {
      "name": "python"
    }
  },
  "nbformat": 4,
  "nbformat_minor": 0
}